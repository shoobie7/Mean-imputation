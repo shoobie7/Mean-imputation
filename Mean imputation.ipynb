{
 "cells": [
  {
   "cell_type": "code",
   "execution_count": null,
   "id": "3ae2e264",
   "metadata": {},
   "outputs": [],
   "source": [
    "import pandas as pd\n",
    "import numpy as np\n",
    "\n",
    "# Create a dataframe\n",
    "data = {\n",
    "    'PatientID': [1, 2, 3, 4, 5, 6, 7, 8, 9, 10],\n",
    "    'SystolicBP': [120, 130, np.nan, 125, 140, np.nan, 135, 128, 122, 126],\n",
    "    'DiastolicBP': [80, 85, 82, np.nan, 90, 88, 86, 84, np.nan, 83]\n",
    "}\n",
    "\n",
    "df = pd.DataFrame(data)\n",
    "\n",
    "# Save the dataframe to a CSV file\n",
    "df.to_csv('patients_blood_pressure.csv', index=False)\n",
    "\n",
    "# Impute missing data using the mean method for numeric columns\n",
    "for column in df.select_dtypes(include=np.number).columns:\n",
    "    mean_value = df[column].mean()\n",
    "    df[column].fillna(mean_value, inplace=True)\n",
    "\n",
    "# Save the imputed dataframe to a new CSV file\n",
    "df.to_csv('patients_blood_pressure_imputed.csv', index=False)\n",
    "\n",
    "print(\"Missing data has been imputed and the dataset has been saved as 'patients_blood_pressure_imputed.csv'\")\n"
   ]
  }
 ],
 "metadata": {
  "kernelspec": {
   "display_name": "Python 3 (ipykernel)",
   "language": "python",
   "name": "python3"
  },
  "language_info": {
   "codemirror_mode": {
    "name": "ipython",
    "version": 3
   },
   "file_extension": ".py",
   "mimetype": "text/x-python",
   "name": "python",
   "nbconvert_exporter": "python",
   "pygments_lexer": "ipython3",
   "version": "3.11.5"
  }
 },
 "nbformat": 4,
 "nbformat_minor": 5
}
